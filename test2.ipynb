{
 "cells": [
  {
   "cell_type": "code",
   "execution_count": 19,
   "id": "9bdddfc1",
   "metadata": {},
   "outputs": [],
   "source": [
    "import pandas as pd\n"
   ]
  },
  {
   "cell_type": "code",
   "execution_count": 20,
   "id": "44fa9b00",
   "metadata": {},
   "outputs": [],
   "source": [
    "df=pd.read_csv(\"Dataset.csv\")"
   ]
  },
  {
   "cell_type": "code",
   "execution_count": 21,
   "id": "0cd0108b",
   "metadata": {},
   "outputs": [
    {
     "data": {
      "text/html": [
       "<div>\n",
       "<style scoped>\n",
       "    .dataframe tbody tr th:only-of-type {\n",
       "        vertical-align: middle;\n",
       "    }\n",
       "\n",
       "    .dataframe tbody tr th {\n",
       "        vertical-align: top;\n",
       "    }\n",
       "\n",
       "    .dataframe thead th {\n",
       "        text-align: right;\n",
       "    }\n",
       "</style>\n",
       "<table border=\"1\" class=\"dataframe\">\n",
       "  <thead>\n",
       "    <tr style=\"text-align: right;\">\n",
       "      <th></th>\n",
       "      <th>Unnamed: 0</th>\n",
       "      <th>text</th>\n",
       "      <th>Emotion</th>\n",
       "    </tr>\n",
       "  </thead>\n",
       "  <tbody>\n",
       "    <tr>\n",
       "      <th>0</th>\n",
       "      <td>0</td>\n",
       "      <td>i seriously hate one subject to death but now ...</td>\n",
       "      <td>hate</td>\n",
       "    </tr>\n",
       "    <tr>\n",
       "      <th>1</th>\n",
       "      <td>1</td>\n",
       "      <td>im so full of life i feel appalled</td>\n",
       "      <td>neutral</td>\n",
       "    </tr>\n",
       "    <tr>\n",
       "      <th>2</th>\n",
       "      <td>2</td>\n",
       "      <td>i sit here to write i start to dig out my feel...</td>\n",
       "      <td>neutral</td>\n",
       "    </tr>\n",
       "    <tr>\n",
       "      <th>3</th>\n",
       "      <td>3</td>\n",
       "      <td>ive been really angry with r and i feel like a...</td>\n",
       "      <td>anger</td>\n",
       "    </tr>\n",
       "    <tr>\n",
       "      <th>4</th>\n",
       "      <td>4</td>\n",
       "      <td>i feel suspicious if there is no one outside l...</td>\n",
       "      <td>neutral</td>\n",
       "    </tr>\n",
       "    <tr>\n",
       "      <th>...</th>\n",
       "      <td>...</td>\n",
       "      <td>...</td>\n",
       "      <td>...</td>\n",
       "    </tr>\n",
       "    <tr>\n",
       "      <th>839550</th>\n",
       "      <td>839550</td>\n",
       "      <td>i feel like telling these horny devils to find...</td>\n",
       "      <td>neutral</td>\n",
       "    </tr>\n",
       "    <tr>\n",
       "      <th>839551</th>\n",
       "      <td>839551</td>\n",
       "      <td>i began to realize that when i was feeling agi...</td>\n",
       "      <td>neutral</td>\n",
       "    </tr>\n",
       "    <tr>\n",
       "      <th>839552</th>\n",
       "      <td>839552</td>\n",
       "      <td>i feel very curious be why previous early dawn...</td>\n",
       "      <td>neutral</td>\n",
       "    </tr>\n",
       "    <tr>\n",
       "      <th>839553</th>\n",
       "      <td>839553</td>\n",
       "      <td>i feel that becuase of the tyranical nature of...</td>\n",
       "      <td>neutral</td>\n",
       "    </tr>\n",
       "    <tr>\n",
       "      <th>839554</th>\n",
       "      <td>839554</td>\n",
       "      <td>i think that after i had spent some time inves...</td>\n",
       "      <td>neutral</td>\n",
       "    </tr>\n",
       "  </tbody>\n",
       "</table>\n",
       "<p>839555 rows × 3 columns</p>\n",
       "</div>"
      ],
      "text/plain": [
       "        Unnamed: 0                                               text  Emotion\n",
       "0                0  i seriously hate one subject to death but now ...     hate\n",
       "1                1                 im so full of life i feel appalled  neutral\n",
       "2                2  i sit here to write i start to dig out my feel...  neutral\n",
       "3                3  ive been really angry with r and i feel like a...    anger\n",
       "4                4  i feel suspicious if there is no one outside l...  neutral\n",
       "...            ...                                                ...      ...\n",
       "839550      839550  i feel like telling these horny devils to find...  neutral\n",
       "839551      839551  i began to realize that when i was feeling agi...  neutral\n",
       "839552      839552  i feel very curious be why previous early dawn...  neutral\n",
       "839553      839553  i feel that becuase of the tyranical nature of...  neutral\n",
       "839554      839554  i think that after i had spent some time inves...  neutral\n",
       "\n",
       "[839555 rows x 3 columns]"
      ]
     },
     "execution_count": 21,
     "metadata": {},
     "output_type": "execute_result"
    }
   ],
   "source": [
    "df"
   ]
  },
  {
   "cell_type": "code",
   "execution_count": null,
   "id": "034e066a",
   "metadata": {},
   "outputs": [],
   "source": [
    "df=df.sample(  1000)"
   ]
  },
  {
   "cell_type": "code",
   "execution_count": 23,
   "id": "b951d203",
   "metadata": {},
   "outputs": [],
   "source": [
    "df=df.drop(columns=[\"Unnamed: 0\"])"
   ]
  },
  {
   "cell_type": "code",
   "execution_count": 24,
   "id": "4821dd80",
   "metadata": {},
   "outputs": [
    {
     "data": {
      "text/html": [
       "<div>\n",
       "<style scoped>\n",
       "    .dataframe tbody tr th:only-of-type {\n",
       "        vertical-align: middle;\n",
       "    }\n",
       "\n",
       "    .dataframe tbody tr th {\n",
       "        vertical-align: top;\n",
       "    }\n",
       "\n",
       "    .dataframe thead th {\n",
       "        text-align: right;\n",
       "    }\n",
       "</style>\n",
       "<table border=\"1\" class=\"dataframe\">\n",
       "  <thead>\n",
       "    <tr style=\"text-align: right;\">\n",
       "      <th></th>\n",
       "      <th>text</th>\n",
       "      <th>Emotion</th>\n",
       "    </tr>\n",
       "  </thead>\n",
       "  <tbody>\n",
       "    <tr>\n",
       "      <th>536636</th>\n",
       "      <td>i have no idea what to expect and picking up a...</td>\n",
       "      <td>neutral</td>\n",
       "    </tr>\n",
       "    <tr>\n",
       "      <th>95390</th>\n",
       "      <td>i would imagine it would feel like to be sexua...</td>\n",
       "      <td>neutral</td>\n",
       "    </tr>\n",
       "    <tr>\n",
       "      <th>712070</th>\n",
       "      <td>im not sure how i feel about it im always skep...</td>\n",
       "      <td>neutral</td>\n",
       "    </tr>\n",
       "    <tr>\n",
       "      <th>616145</th>\n",
       "      <td>i have started putting together a wearable mus...</td>\n",
       "      <td>anger</td>\n",
       "    </tr>\n",
       "    <tr>\n",
       "      <th>326434</th>\n",
       "      <td>i have also realized that while i may feel fab...</td>\n",
       "      <td>neutral</td>\n",
       "    </tr>\n",
       "    <tr>\n",
       "      <th>...</th>\n",
       "      <td>...</td>\n",
       "      <td>...</td>\n",
       "    </tr>\n",
       "    <tr>\n",
       "      <th>300989</th>\n",
       "      <td>i tell myself that feeling angry or hurt wont ...</td>\n",
       "      <td>anger</td>\n",
       "    </tr>\n",
       "    <tr>\n",
       "      <th>233893</th>\n",
       "      <td>i feel like the talented mr ripley i feel like...</td>\n",
       "      <td>neutral</td>\n",
       "    </tr>\n",
       "    <tr>\n",
       "      <th>284714</th>\n",
       "      <td>ive just woken up feeling tender as if my skin...</td>\n",
       "      <td>neutral</td>\n",
       "    </tr>\n",
       "    <tr>\n",
       "      <th>128692</th>\n",
       "      <td>i must learn to slow down and not feel so guil...</td>\n",
       "      <td>neutral</td>\n",
       "    </tr>\n",
       "    <tr>\n",
       "      <th>531806</th>\n",
       "      <td>i don t know what it is but i always feel like...</td>\n",
       "      <td>neutral</td>\n",
       "    </tr>\n",
       "  </tbody>\n",
       "</table>\n",
       "<p>100000 rows × 2 columns</p>\n",
       "</div>"
      ],
      "text/plain": [
       "                                                     text  Emotion\n",
       "536636  i have no idea what to expect and picking up a...  neutral\n",
       "95390   i would imagine it would feel like to be sexua...  neutral\n",
       "712070  im not sure how i feel about it im always skep...  neutral\n",
       "616145  i have started putting together a wearable mus...    anger\n",
       "326434  i have also realized that while i may feel fab...  neutral\n",
       "...                                                   ...      ...\n",
       "300989  i tell myself that feeling angry or hurt wont ...    anger\n",
       "233893  i feel like the talented mr ripley i feel like...  neutral\n",
       "284714  ive just woken up feeling tender as if my skin...  neutral\n",
       "128692  i must learn to slow down and not feel so guil...  neutral\n",
       "531806  i don t know what it is but i always feel like...  neutral\n",
       "\n",
       "[100000 rows x 2 columns]"
      ]
     },
     "execution_count": 24,
     "metadata": {},
     "output_type": "execute_result"
    }
   ],
   "source": [
    "df"
   ]
  },
  {
   "cell_type": "code",
   "execution_count": 25,
   "id": "66907f7a",
   "metadata": {},
   "outputs": [],
   "source": [
    "df.to_csv(\"test.csv\",index=False)"
   ]
  },
  {
   "cell_type": "code",
   "execution_count": 26,
   "id": "d9ce1fa6",
   "metadata": {},
   "outputs": [
    {
     "name": "stdout",
     "output_type": "stream",
     "text": [
      "                                     text  Emotion\n",
      "100190     I stare at the wall endlessly.    empty\n",
      "100191  I have nothing interesting to do.  boredom\n",
      "100192  Just another day without meaning.    empty\n",
      "100193      The movie is too slow for me.  boredom\n",
      "100194          I feel nothing right now.    empty\n",
      "100195           This class is so boring.  boredom\n",
      "100196           Life feels hollow today.    empty\n",
      "100197    I just want something exciting.  boredom\n",
      "100198          I feel nothing right now.    empty\n",
      "100199          I’m bored out of my mind.  boredom\n",
      "Emotion\n",
      "neutral       80366\n",
      "love           4633\n",
      "happiness      3323\n",
      "sadness        2082\n",
      "relief         1934\n",
      "hate           1797\n",
      "anger          1518\n",
      "fun            1215\n",
      "enthusiasm     1139\n",
      "surprise        829\n",
      "empty           735\n",
      "worry           514\n",
      "boredom         115\n",
      "Name: count, dtype: int64\n"
     ]
    }
   ],
   "source": [
    "import random\n",
    "\n",
    "# Example texts for each emotion\n",
    "empty_texts = [\n",
    "    \"I feel nothing right now.\",\n",
    "    \"Everything seems blank to me.\",\n",
    "    \"My mind is just empty.\",\n",
    "    \"I don't know what to think.\",\n",
    "    \"There’s no feeling left inside.\",\n",
    "    \"I stare at the wall endlessly.\",\n",
    "    \"Nothing excites me anymore.\",\n",
    "    \"The silence feels overwhelming.\",\n",
    "    \"Life feels hollow today.\",\n",
    "    \"Just another day without meaning.\"\n",
    "]\n",
    "\n",
    "boredom_texts = [\n",
    "    \"This class is so boring.\",\n",
    "    \"I can’t stop yawning.\",\n",
    "    \"Everything feels repetitive.\",\n",
    "    \"I have nothing interesting to do.\",\n",
    "    \"Scrolling endlessly with no purpose.\",\n",
    "    \"This meeting is dragging on forever.\",\n",
    "    \"I’m bored out of my mind.\",\n",
    "    \"There’s nothing new happening.\",\n",
    "    \"The movie is too slow for me.\",\n",
    "    \"I just want something exciting.\"\n",
    "]\n",
    "\n",
    "# Generate 100 rows for each emotion\n",
    "new_data = []\n",
    "for _ in range(100):\n",
    "    new_data.append({\"text\": random.choice(empty_texts), \"Emotion\": \"empty\"})\n",
    "    new_data.append({\"text\": random.choice(boredom_texts), \"Emotion\": \"boredom\"})\n",
    "\n",
    "# Convert to DataFrame\n",
    "df_extra = pd.DataFrame(new_data)\n",
    "\n",
    "# Append to your original df\n",
    "df = pd.concat([df, df_extra], ignore_index=True)\n",
    "\n",
    "print(df.tail(10))  # check last few rows\n",
    "print(df['Emotion'].value_counts())  # check class distribution\n"
   ]
  },
  {
   "cell_type": "code",
   "execution_count": 18,
   "id": "8afa47a6",
   "metadata": {},
   "outputs": [
    {
     "data": {
      "text/plain": [
       "100200"
      ]
     },
     "execution_count": 18,
     "metadata": {},
     "output_type": "execute_result"
    }
   ],
   "source": [
    "len(df)"
   ]
  },
  {
   "cell_type": "code",
   "execution_count": 27,
   "id": "2be1c6f4",
   "metadata": {},
   "outputs": [],
   "source": [
    "df.to_csv(\"test.csv\",index=False)"
   ]
  },
  {
   "cell_type": "code",
   "execution_count": null,
   "id": "b33b9220",
   "metadata": {},
   "outputs": [],
   "source": []
  }
 ],
 "metadata": {
  "kernelspec": {
   "display_name": "venv",
   "language": "python",
   "name": "python3"
  },
  "language_info": {
   "codemirror_mode": {
    "name": "ipython",
    "version": 3
   },
   "file_extension": ".py",
   "mimetype": "text/x-python",
   "name": "python",
   "nbconvert_exporter": "python",
   "pygments_lexer": "ipython3",
   "version": "3.12.0"
  }
 },
 "nbformat": 4,
 "nbformat_minor": 5
}
